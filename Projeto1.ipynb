{
 "cells": [
  {
   "cell_type": "code",
   "execution_count": null,
   "metadata": {
    "id": "w8E3DZN8RvcC"
   },
   "outputs": [],
   "source": [
    "#imports \n",
    "from sklearn.tree import DecisionTreeClassifier\n",
    "from sklearn.model_selection import train_test_split\n",
    "from sklearn import tree  \n",
    "import pandas as pd\n",
    "from sklearn.metrics import classification_report, confusion_matrix, mean_absolute_error, accuracy_score, precision_score, recall_score\n",
    "import seaborn as sns\n",
    "import matplotlib.pyplot as plt\n",
    "import numpy as np\n",
    "!pip install dtreeviz"
   ]
  },
  {
   "cell_type": "markdown",
   "metadata": {
    "id": "tG5oElCNRm4c"
   },
   "source": [
    "Loading the data"
   ]
  },
  {
   "cell_type": "code",
   "execution_count": null,
   "metadata": {
    "id": "xHwhnxWJRbPx"
   },
   "outputs": [],
   "source": [
    "df = pd.read_csv('/content/WA_Fn-UseC_-Telco-Customer-Churn.csv')\n",
    "df"
   ]
  },
  {
   "cell_type": "code",
   "execution_count": null,
   "metadata": {
    "id": "SfzMaMBYnl7g"
   },
   "outputs": [],
   "source": [
    "df.info()"
   ]
  },
  {
   "cell_type": "markdown",
   "metadata": {
    "id": "pgGKTXDLoC64"
   },
   "source": [
    "###convertendo a coluna 19 (TotalCharges) para float e Verificando se têm algum valor nulo."
   ]
  },
  {
   "cell_type": "markdown",
   "metadata": {
    "id": "oEXvgbut6clo"
   },
   "source": [
    "Nesta coluna existem alguns valores que foram declarados como vazio (\" \"). Olhando atentamente para os dado em comun entre as linhas com este valor, nota-se que todos possuem um Tenure igual a 0. Ou seja, estes são clientes que acabaram de assinar o contrato e ainda não receberam nenhuma cobrança. \n",
    "\n",
    "Por este motivo eu coloquei 0 no totalCharges abaixo."
   ]
  },
  {
   "cell_type": "code",
   "execution_count": null,
   "metadata": {
    "id": "kPaeeqLYsPTa"
   },
   "outputs": [],
   "source": [
    "df['TotalCharges'][df['TotalCharges']==\" \"] = 0"
   ]
  },
  {
   "cell_type": "code",
   "execution_count": null,
   "metadata": {
    "id": "EXpIGZOaoIlM"
   },
   "outputs": [],
   "source": [
    "df['TotalCharges']=pd.to_numeric(df[\"TotalCharges\"], downcast=\"float\")"
   ]
  },
  {
   "cell_type": "code",
   "execution_count": null,
   "metadata": {
    "id": "WYGVj7MtBQTD"
   },
   "outputs": [],
   "source": [
    "data = df.copy()#copiando para utilizar nos gráficos lá no final"
   ]
  },
  {
   "cell_type": "code",
   "execution_count": null,
   "metadata": {
    "id": "oDqw5xWcsjpz"
   },
   "outputs": [],
   "source": [
    "df.info()"
   ]
  },
  {
   "cell_type": "code",
   "execution_count": null,
   "metadata": {
    "id": "nSOk1FRyUGm3"
   },
   "outputs": [],
   "source": [
    "df[df.isna().any(axis=1)]"
   ]
  },
  {
   "cell_type": "code",
   "execution_count": null,
   "metadata": {
    "id": "AtFXrCu7U7jW"
   },
   "outputs": [],
   "source": [
    "df[df.isnull().any(axis=1)]"
   ]
  },
  {
   "cell_type": "markdown",
   "metadata": {
    "id": "wBJywAJ2gtMg"
   },
   "source": [
    "**Nenhum valor é nulo.**"
   ]
  },
  {
   "cell_type": "markdown",
   "metadata": {
    "id": "m7I3rhmdgwMt"
   },
   "source": [
    "###Substituindo os dados categóricos por numéricos."
   ]
  },
  {
   "cell_type": "code",
   "execution_count": null,
   "metadata": {
    "id": "ze2ohGHHnV4i"
   },
   "outputs": [],
   "source": [
    "#separando as colunas que precisam ser alteradas\n",
    "colunas =['gender',\n",
    " 'Partner',\n",
    " 'Dependents',\n",
    " 'PhoneService',\n",
    " 'MultipleLines',\n",
    " 'InternetService',\n",
    " 'OnlineSecurity',\n",
    " 'OnlineBackup',\n",
    " 'DeviceProtection',\n",
    " 'TechSupport',\n",
    " 'StreamingTV',\n",
    " 'StreamingMovies',\n",
    " 'Contract',\n",
    " 'PaperlessBilling',\n",
    " 'PaymentMethod',\n",
    " 'Churn']"
   ]
  },
  {
   "cell_type": "code",
   "execution_count": null,
   "metadata": {
    "id": "ZQDB6aHmm4wQ"
   },
   "outputs": [],
   "source": [
    "labels = {}#este será o dicionário que ficará salvo qual é a conversão"
   ]
  },
  {
   "cell_type": "code",
   "execution_count": null,
   "metadata": {
    "id": "ad15hBzrm2mo"
   },
   "outputs": [],
   "source": [
    "for x in colunas:\n",
    "  df[x],labels[x] = df[x].factorize()"
   ]
  },
  {
   "cell_type": "code",
   "execution_count": null,
   "metadata": {
    "id": "L_r0wvnYm7WI"
   },
   "outputs": [],
   "source": [
    "labels"
   ]
  },
  {
   "cell_type": "code",
   "execution_count": null,
   "metadata": {
    "id": "YqEG3al6m8KQ"
   },
   "outputs": [],
   "source": [
    "df"
   ]
  },
  {
   "cell_type": "markdown",
   "metadata": {
    "id": "W3Gi1Ipdt3CQ"
   },
   "source": [
    "###Dividindo em Features e Target."
   ]
  },
  {
   "cell_type": "code",
   "execution_count": null,
   "metadata": {
    "id": "wjpa3ILUR99u"
   },
   "outputs": [],
   "source": [
    "\n",
    "features = df.drop([\"Churn\", \"customerID\"], axis=1)\n",
    "features"
   ]
  },
  {
   "cell_type": "code",
   "execution_count": null,
   "metadata": {
    "id": "Gq4NyLgASmiW"
   },
   "outputs": [],
   "source": [
    "target= df['Churn']\n",
    "target"
   ]
  },
  {
   "cell_type": "markdown",
   "metadata": {
    "id": "Q7nEkmVvtauo"
   },
   "source": [
    "###Plotando a Arvore"
   ]
  },
  {
   "cell_type": "code",
   "execution_count": null,
   "metadata": {
    "id": "vTvqTpo-ufx5"
   },
   "outputs": [],
   "source": [
    "\n",
    "decisionTree = DecisionTreeClassifier(max_depth=4)"
   ]
  },
  {
   "cell_type": "code",
   "execution_count": null,
   "metadata": {
    "id": "682SxEjHunOB"
   },
   "outputs": [],
   "source": [
    "# Treinar o modelo\n",
    "model = decisionTree.fit(features,target)"
   ]
  },
  {
   "cell_type": "code",
   "execution_count": null,
   "metadata": {
    "id": "f4GWoP7-vFMR"
   },
   "outputs": [],
   "source": [
    "features.columns"
   ]
  },
  {
   "cell_type": "code",
   "execution_count": null,
   "metadata": {
    "id": "nRFxqR7OusiJ"
   },
   "outputs": [],
   "source": [
    "# Gera a figura\n",
    "fig = plt.figure(figsize=(30,25))\n",
    "\n",
    "# Gera a árvore\n",
    "_ = tree.plot_tree(model,\n",
    "               feature_names = features.columns,\n",
    "               class_names = target.apply(str).unique(),\n",
    "               filled=True)\n",
    "fig.savefig(\"decistion_tree.png\")"
   ]
  },
  {
   "cell_type": "code",
   "execution_count": null,
   "metadata": {
    "id": "-D7nwCshyzhZ"
   },
   "outputs": [],
   "source": [
    "from dtreeviz.trees import dtreeviz # remember to load the package\n",
    "\n",
    "viz = dtreeviz(model, features, target,\n",
    "                feature_names = features.columns,\n",
    "                class_names = list(target.apply(str).unique())\n",
    "                )\n",
    "\n",
    "viz"
   ]
  },
  {
   "cell_type": "code",
   "execution_count": null,
   "metadata": {
    "id": "XhhRQy3x0xzi"
   },
   "outputs": [],
   "source": [
    "viz.save(\"ArvoreChurn.svg\")"
   ]
  },
  {
   "cell_type": "markdown",
   "metadata": {
    "id": "3PYujEAvwKLJ"
   },
   "source": [
    "###Segmentação dos dados e Validação do modelo"
   ]
  },
  {
   "cell_type": "code",
   "execution_count": null,
   "metadata": {
    "id": "h7PDeYbnwMaZ"
   },
   "outputs": [],
   "source": [
    "from sklearn.model_selection import train_test_split"
   ]
  },
  {
   "cell_type": "code",
   "execution_count": null,
   "metadata": {
    "id": "wyEjuR_twQXR"
   },
   "outputs": [],
   "source": [
    "X_train,X_test,y_train,y_test = train_test_split(features,target, test_size=0.2, random_state=1)"
   ]
  },
  {
   "cell_type": "code",
   "execution_count": null,
   "metadata": {
    "id": "EFm0U5akwsox"
   },
   "outputs": [],
   "source": [
    "# Treinar o modelo\n",
    "model = decisionTree.fit(X_train,y_train)"
   ]
  },
  {
   "cell_type": "code",
   "execution_count": null,
   "metadata": {
    "id": "hz3yAT2aAAMZ"
   },
   "outputs": [],
   "source": [
    "y_pred = model.predict(X_test)"
   ]
  },
  {
   "cell_type": "code",
   "execution_count": null,
   "metadata": {
    "id": "mgldxijY_KpR"
   },
   "outputs": [],
   "source": [
    "from sklearn.metrics import classification_report, confusion_matrix, mean_absolute_error, accuracy_score, precision_score, recall_score, f1_score\n",
    "accuracy_score(y_test,y_pred)"
   ]
  },
  {
   "cell_type": "code",
   "execution_count": null,
   "metadata": {
    "id": "XfbvsDoA-XaW"
   },
   "outputs": [],
   "source": [
    "precision_score(y_test,y_pred)"
   ]
  },
  {
   "cell_type": "code",
   "execution_count": null,
   "metadata": {
    "id": "SufpogJR-eIO"
   },
   "outputs": [],
   "source": [
    "recall_score(y_test,y_pred)"
   ]
  },
  {
   "cell_type": "code",
   "execution_count": null,
   "metadata": {
    "id": "ogiskw-l-XQx"
   },
   "outputs": [],
   "source": [
    "f1_score(y_test,y_pred)"
   ]
  },
  {
   "cell_type": "code",
   "execution_count": null,
   "metadata": {
    "id": "RbhYG5Qgw3B5"
   },
   "outputs": [],
   "source": [
    "print(classification_report(y_test,y_pred))"
   ]
  },
  {
   "cell_type": "code",
   "execution_count": null,
   "metadata": {
    "id": "QlpsAK8vw8tQ"
   },
   "outputs": [],
   "source": [
    "mat =confusion_matrix(y_test, y_pred)\n",
    "axes = sns.heatmap(mat, square=True, annot=True, fmt='d', cbar=True)"
   ]
  },
  {
   "cell_type": "markdown",
   "metadata": {
    "id": "ATSVGD_7zvhy"
   },
   "source": [
    "###importância de cada feature"
   ]
  },
  {
   "cell_type": "code",
   "execution_count": null,
   "metadata": {
    "id": "W0NYzzf5zzQa"
   },
   "outputs": [],
   "source": [
    "d = {i:j for i,j in zip(features.columns, model.feature_importances_)}"
   ]
  },
  {
   "cell_type": "code",
   "execution_count": null,
   "metadata": {
    "id": "UskW_oXVzztr"
   },
   "outputs": [],
   "source": [
    "sorted(d.items(), key=lambda item: item[1], reverse=True)"
   ]
  },
  {
   "cell_type": "markdown",
   "metadata": {
    "id": "WJI-CxZg6j-t"
   },
   "source": [
    "###Visualização com Gráficos."
   ]
  },
  {
   "cell_type": "code",
   "execution_count": null,
   "metadata": {
    "id": "DHYDKI4r7TOC"
   },
   "outputs": [],
   "source": [
    "import pandas as pd\n",
    "import numpy as np\n",
    "import missingno as msno\n",
    "import matplotlib.pyplot as plt\n",
    "import seaborn as sns\n",
    "import plotly.express as px\n",
    "import plotly.graph_objects as go\n",
    "from plotly.subplots import make_subplots\n",
    "import warnings\n",
    "warnings.filterwarnings('ignore')"
   ]
  },
  {
   "cell_type": "code",
   "execution_count": null,
   "metadata": {
    "id": "AyqoJfJ8BgOi"
   },
   "outputs": [],
   "source": [
    "data.head(5)"
   ]
  },
  {
   "cell_type": "code",
   "execution_count": null,
   "metadata": {
    "id": "mhvg1qcF6oWp"
   },
   "outputs": [],
   "source": [
    "c_labels = ['Não', 'Sim']\n",
    "fig = make_subplots(rows=1, cols=2, specs=[[{'type':'domain'}, {'type':'domain'}]])\n",
    "fig.add_trace(go.Pie(labels=c_labels, values=df['Churn'].value_counts(), name=\"Churn\"))\n",
    "fig.update_traces(hole=.4, hoverinfo=\"label+percent+name\", textfont_size=16)\n",
    "fig.update_layout(\n",
    "    title_text=\"Porcentagem de pessoas que cometeram o churn\",\n",
    "    annotations=[dict(text='Churn', font_size=20, showarrow=False)])\n",
    "fig.show()"
   ]
  },
  {
   "cell_type": "code",
   "execution_count": null,
   "metadata": {
    "id": "oBIQT6Sm2QCU"
   },
   "outputs": [],
   "source": [
    "fig = px.histogram(data, x=\"Churn\", color=\"Contract\", barmode=\"group\", title=\"<b>Distribuição do Churn por tipo de contrato<b>\")\n",
    "fig.update_layout(width=700, height=500, bargap=0.1)\n",
    "fig.show()"
   ]
  },
  {
   "cell_type": "code",
   "execution_count": null,
   "metadata": {
    "id": "R2zOAGzPKzSx"
   },
   "outputs": [],
   "source": [
    "fig = px.pie(data, values=data.Contract.value_counts(), names= data.Contract.value_counts().index, title='Distribuição de planos', width=440, height=480)\n",
    "fig.update_traces(textposition='inside', textinfo='percent+label')\n",
    "fig.show()"
   ]
  },
  {
   "cell_type": "markdown",
   "metadata": {
    "id": "q84FMhwdG1Bo"
   },
   "source": [
    "------------------------------------------------------------------------------\n",
    "- **Está claro que quanto mais longo o plano menor é o Churn. 88% das pessoas que saíram possuíam um plano mensal.**\n",
    "\n",
    "----------------------------------------------------------------------------"
   ]
  },
  {
   "cell_type": "code",
   "execution_count": null,
   "metadata": {
    "id": "Gln8Y8nNHEIA"
   },
   "outputs": [],
   "source": [
    "sairam = {'Mensal':1655, '1-Ano':166, \"2-Anos\": 48}\n",
    "naoSairam = {'Mensal':2220, '1-Ano':1307, \"2-Anos\": 1647}\n",
    "total= {'Mensal':3875, '1-Ano':1473, \"2-Anos\": 1695}\n",
    "qtdClientes = data.shape[0]"
   ]
  },
  {
   "cell_type": "code",
   "execution_count": null,
   "metadata": {
    "id": "N0z_auOWJj7A"
   },
   "outputs": [],
   "source": [
    "print(f\" porcentagem dos que cometeram o churn e tinha um plano mensal {sairam['Mensal']/data['Churn'].value_counts()['Yes']} \")"
   ]
  },
  {
   "cell_type": "code",
   "execution_count": null,
   "metadata": {
    "id": "tW7mdkr4FwXg"
   },
   "outputs": [],
   "source": [
    "color_map = {\"Yes\": \"#FF97FF\", \"No\": \"#AB63FA\"}\n",
    "fig = px.histogram(data, x=\"Churn\", color=\"OnlineSecurity\", barmode=\"group\", title=\"<b>Distribuição do Churn para Online Security</b>\", color_discrete_map=color_map)\n",
    "fig.update_layout(width=700, height=500, bargap=0.1)\n",
    "fig.show()"
   ]
  },
  {
   "cell_type": "markdown",
   "metadata": {
    "id": "cAH0A4SjF1T3"
   },
   "source": [
    "- **É NOTÁVEL A QUANTIDADE DE *CHURN* QUANDO NÃO TEM OnlineSecurity.**\n",
    "\n"
   ]
  },
  {
   "cell_type": "code",
   "execution_count": null,
   "metadata": {
    "id": "gskZFooD6qRa"
   },
   "outputs": [],
   "source": [
    "fig = px.box(data, x='Churn', y = 'tenure')\n",
    "\n",
    "# Update yaxis properties\n",
    "fig.update_yaxes(title_text='Tenure (Months)', row=1, col=1)\n",
    "# Update xaxis properties\n",
    "fig.update_xaxes(title_text='Churn', row=1, col=1)\n",
    "\n",
    "# Update size and title\n",
    "fig.update_layout(autosize=True, width=700, height=550,\n",
    "    title_font=dict(size=25, family='Courier'),\n",
    "    title='<b>Tenure vs Churn</b>',\n",
    ")\n",
    "\n",
    "fig.show()"
   ]
  },
  {
   "cell_type": "markdown",
   "metadata": {
    "id": "iwl9fZLFOO3E"
   },
   "source": [
    "- **O gráfico acima mostra que a maior parte das pessoas que saem contrataram o serviço há pouco tempo. Ou seja, mais um indício que os planos mais longos (1 ou 2 anos) são mais vantajosos.**"
   ]
  },
  {
   "cell_type": "code",
   "execution_count": null,
   "metadata": {
    "id": "0zwex4wRPQGS"
   },
   "outputs": [],
   "source": [
    "fig = px.histogram(data, x=\"Churn\", color=\"InternetService\", barmode=\"group\", title=\"<b>Distribuição do Churn para os serviços de internet</b>\")\n",
    "fig.update_layout(width=700, height=500, bargap=0.1)\n",
    "fig.show()"
   ]
  },
  {
   "cell_type": "code",
   "execution_count": null,
   "metadata": {
    "id": "LmNXwV3oPlTm"
   },
   "outputs": [],
   "source": [
    "fig = px.pie(data, values=data.InternetService.value_counts(), names= data.InternetService.value_counts().index, title='Distribuição de Serviços de internet', width=440, height=480)\n",
    "fig.update_traces(textposition='inside', textinfo='percent+label')\n",
    "fig.show()"
   ]
  },
  {
   "cell_type": "code",
   "execution_count": null,
   "metadata": {
    "id": "8pnh6taSQGUx"
   },
   "outputs": [],
   "source": [
    "data[data[\"Churn\"]=='Yes']['InternetService'].value_counts()['Fiber optic'] / sum(data[data[\"Churn\"]=='Yes']['InternetService'].value_counts())"
   ]
  },
  {
   "cell_type": "markdown",
   "metadata": {
    "id": "t0j3Y_NlP1g5"
   },
   "source": [
    "- **A internet por fibra ótica parece ter algum problema, visto que eles representam 44% dos contratos e 69% do Churn. Em outras palavras, 69% das pessoas que saíram possuíam internet por fibra ótica.**"
   ]
  },
  {
   "cell_type": "markdown",
   "metadata": {
    "id": "b5qhzyeTSN_6"
   },
   "source": [
    "CARACTERÍSTICAS RECORRENTES ENTRE AS PESSOAS QUE CANCELAM A ASSINATURA (CHURN):\n",
    "\n",
    "1. - Contrataram o plano mensal\n",
    "2. - Não possuem segurança online no plano (online security)\n",
    "3. - São clientes a pouco tempo.\n",
    "4. - Possuem internet por fibra ótica."
   ]
  },
  {
   "cell_type": "code",
   "execution_count": null,
   "metadata": {
    "id": "K4-p09gqSS28"
   },
   "outputs": [],
   "source": []
  }
 ],
 "metadata": {
  "colab": {
   "name": "Projeto1.ipynb",
   "private_outputs": true,
   "provenance": []
  },
  "kernelspec": {
   "display_name": "Python 3",
   "language": "python",
   "name": "python3"
  },
  "language_info": {
   "codemirror_mode": {
    "name": "ipython",
    "version": 3
   },
   "file_extension": ".py",
   "mimetype": "text/x-python",
   "name": "python",
   "nbconvert_exporter": "python",
   "pygments_lexer": "ipython3",
   "version": "3.8.3"
  }
 },
 "nbformat": 4,
 "nbformat_minor": 1
}
